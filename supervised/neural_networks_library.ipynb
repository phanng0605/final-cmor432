{
 "cells": [
  {
   "cell_type": "markdown",
   "id": "f670c26c",
   "metadata": {},
   "source": [
    "# Neural Network Classification with Scikit-Learn\n",
    "\n",
    "This notebook demonstrates multi-class classification using the MLPClassifier from scikit-learn on the Digits dataset."
   ]
  },
  {
   "cell_type": "markdown",
   "id": "326a085c",
   "metadata": {},
   "source": [
    "## 1. Introduction\n",
    "We will build, train, and evaluate a Multi-Layer Perceptron (MLP) for digit recognition."
   ]
  },
  {
   "cell_type": "markdown",
   "id": "621f7d13",
   "metadata": {},
   "source": [
    "## 2. Imports"
   ]
  },
  {
   "cell_type": "code",
   "execution_count": 1,
   "id": "94a36e5e",
   "metadata": {},
   "outputs": [],
   "source": [
    "import numpy as np\n",
    "import pandas as pd\n",
    "import matplotlib.pyplot as plt\n",
    "from sklearn.datasets import load_digits\n",
    "from sklearn.neural_network import MLPClassifier\n",
    "from sklearn.model_selection import train_test_split\n",
    "from sklearn.preprocessing import StandardScaler\n",
    "from sklearn.metrics import accuracy_score, classification_report, confusion_matrix"
   ]
  },
  {
   "cell_type": "markdown",
   "id": "61281d2d",
   "metadata": {},
   "source": [
    "## 3. Load and Prepare Data"
   ]
  },
  {
   "cell_type": "code",
   "execution_count": 2,
   "id": "5ebc89c4",
   "metadata": {},
   "outputs": [],
   "source": [
    "# Load Digits dataset\n",
    "digits = load_digits()\n",
    "X = digits.data  # each image is 8x8 flattened\n",
    "y = digits.target\n",
    "\n",
    "# Split into train and test sets\n",
    "X_train, X_test, y_train, y_test = train_test_split(\n",
    "    X, y, test_size=0.3, random_state=42, stratify=y\n",
    ")\n",
    "\n",
    "# Standardize features\n",
    "scaler = StandardScaler()\n",
    "X_train_scaled = scaler.fit_transform(X_train)\n",
    "X_test_scaled = scaler.transform(X_test)"
   ]
  },
  {
   "cell_type": "markdown",
   "id": "04004aae",
   "metadata": {},
   "source": [
    "## 4. Train MLP Classifier"
   ]
  },
  {
   "cell_type": "code",
   "execution_count": 3,
   "id": "13fa26ac",
   "metadata": {},
   "outputs": [
    {
     "data": {
      "text/plain": [
       "MLPClassifier(max_iter=300, random_state=42)"
      ]
     },
     "execution_count": 3,
     "metadata": {},
     "output_type": "execute_result"
    }
   ],
   "source": [
    "mlp = MLPClassifier(hidden_layer_sizes=(100,), max_iter=300, random_state=42)\n",
    "mlp.fit(X_train_scaled, y_train)"
   ]
  },
  {
   "cell_type": "markdown",
   "id": "11de7a31",
   "metadata": {},
   "source": [
    "## 5. Evaluate Model"
   ]
  },
  {
   "cell_type": "code",
   "execution_count": 4,
   "id": "efd799ef",
   "metadata": {},
   "outputs": [
    {
     "name": "stdout",
     "output_type": "stream",
     "text": [
      "Accuracy: 0.98\n",
      "\n",
      "Classification Report:\n",
      "              precision    recall  f1-score   support\n",
      "\n",
      "           0       1.00      0.98      0.99        54\n",
      "           1       0.95      0.98      0.96        55\n",
      "           2       1.00      1.00      1.00        53\n",
      "           3       1.00      1.00      1.00        55\n",
      "           4       0.96      0.96      0.96        54\n",
      "           5       0.98      0.98      0.98        55\n",
      "           6       1.00      0.98      0.99        54\n",
      "           7       0.98      1.00      0.99        54\n",
      "           8       0.94      0.92      0.93        52\n",
      "           9       0.98      0.98      0.98        54\n",
      "\n",
      "    accuracy                           0.98       540\n",
      "   macro avg       0.98      0.98      0.98       540\n",
      "weighted avg       0.98      0.98      0.98       540\n",
      "\n",
      "\n",
      "Confusion Matrix:\n",
      "[[53  0  0  0  1  0  0  0  0  0]\n",
      " [ 0 54  0  0  1  0  0  0  0  0]\n",
      " [ 0  0 53  0  0  0  0  0  0  0]\n",
      " [ 0  0  0 55  0  0  0  0  0  0]\n",
      " [ 0  0  0  0 52  0  0  1  1  0]\n",
      " [ 0  0  0  0  0 54  0  0  0  1]\n",
      " [ 0  0  0  0  0  0 53  0  1  0]\n",
      " [ 0  0  0  0  0  0  0 54  0  0]\n",
      " [ 0  3  0  0  0  1  0  0 48  0]\n",
      " [ 0  0  0  0  0  0  0  0  1 53]]\n"
     ]
    }
   ],
   "source": [
    "y_pred = mlp.predict(X_test_scaled)\n",
    "\n",
    "print(f\"Accuracy: {accuracy_score(y_test, y_pred):.2f}\")\n",
    "print(\"\\nClassification Report:\")\n",
    "print(classification_report(y_test, y_pred))\n",
    "\n",
    "# Confusion Matrix\n",
    "cm = confusion_matrix(y_test, y_pred)\n",
    "print(\"\\nConfusion Matrix:\")\n",
    "print(cm)"
   ]
  },
  {
   "cell_type": "markdown",
   "id": "8e67154b",
   "metadata": {},
   "source": [
    "## 6. Visualize Sample Predictions"
   ]
  },
  {
   "cell_type": "code",
   "execution_count": 6,
   "id": "9843f87f",
   "metadata": {},
   "outputs": [
    {
     "data": {
      "image/png": "[encoded data removed]",
      "text/plain": [
       "<Figure size 1000x500 with 10 Axes>"
      ]
     },
     "metadata": {},
     "output_type": "display_data"
    }
   ],
   "source": [
    "# Display a few test images with predictions\n",
    "fig, axes = plt.subplots(2, 5, figsize=(10, 5))\n",
    "indices = np.random.choice(len(X_test), size=10, replace=False)\n",
    "for ax, idx in zip(axes.ravel(), indices):\n",
    "    ax.imshow(X_test[idx].reshape(8, 8), cmap='gray')\n",
    "    ax.set_title(f\"True: {y_test[idx]} / Pred: {y_pred[idx]}\")\n",
    "        # ax.axis('off')\n",
    "plt.tight_layout()\n",
    "plt.show()"
   ]
  },
  {
   "cell_type": "markdown",
   "id": "9a3c2630",
   "metadata": {},
   "source": [
    "## 7. Conclusion\n",
    "The MLPClassifier achieved strong performance on the Digits dataset. For further improvement, tune hyperparameters or network architecture."
   ]
  },
  {
   "cell_type": "markdown",
   "id": "24911bf8",
   "metadata": {},
   "source": []
  },
  {
   "cell_type": "markdown",
   "id": "31d78dcc",
   "metadata": {},
   "source": []
  },
  {
   "cell_type": "markdown",
   "id": "1e07883c",
   "metadata": {},
   "source": []
  }
 ],
 "metadata": {
  "kernelspec": {
   "display_name": "base",
   "language": "python",
   "name": "python3"
  },
  "language_info": {
   "codemirror_mode": {
    "name": "ipython",
    "version": 3
   },
   "file_extension": ".py",
   "mimetype": "text/x-python",
   "name": "python",
   "nbconvert_exporter": "python",
   "pygments_lexer": "ipython3",
   "version": "3.9.12"
  }
 },
 "nbformat": 4,
 "nbformat_minor": 5
}
